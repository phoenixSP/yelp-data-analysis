{
 "cells": [
  {
   "cell_type": "code",
   "execution_count": null,
   "metadata": {},
   "outputs": [],
   "source": [
    "import pandas as pd\n",
    "import numpy as np\n",
    "import requests\n",
    "files = \"business.json\"\n",
    "#gets data from business.json into a dataframe\n",
    "review_df = pd.read_json (files, lines = True)"
   ]
  },
  {
   "cell_type": "code",
   "execution_count": null,
   "metadata": {},
   "outputs": [],
   "source": [
    "#filters rows that contain nulls\n",
    "nans = lambda df: df[df.isnull().any(axis=1)]\n",
    "nulls_df = nans(review_df)\n",
    "#print(nulls_df)"
   ]
  },
  {
   "cell_type": "code",
   "execution_count": null,
   "metadata": {},
   "outputs": [],
   "source": [
    "#attempt to impute missing address\n",
    "for addr,name,zipc,longt,lat in zip(nulls_df['address'],nulls_df['name'],nulls_df['postal_code'],nulls_df['longitude'],nulls_df['latitude']):\n",
    "    if addr == \"\":\n",
    "        addr_search = 'https://maps.googleapis.com/maps/api/place/findplacefromtext/json?input='+name+'&inputtype=textquery&fields=formatted_address,name,opening_hours&locationbias=circle:2000@'+str(lat)+','+str(longt)+'&key='\n",
    "        addr_response = requests.get(addr_search)\n",
    "        print(addr_response.json())\n",
    "        print(name + ', '+str(lat)+','+str(longt))\n",
    "        break"
   ]
  },
  {
   "cell_type": "code",
   "execution_count": null,
   "metadata": {},
   "outputs": [],
   "source": [
    "#attempt to impute missing hours\n",
    "for hour,name,addr in zip(nulls_df['hours'],nulls_df['name'],nulls_df['address']):\n",
    "    if hour is None:\n",
    "        if addr != \"\":\n",
    "            place_search = 'https://maps.googleapis.com/maps/api/place/findplacefromtext/json?input='+addr+'&inputtype=textquery&key='\n",
    "            place_response = requests.get(place_search)\n",
    "            place_id = place_response.json()['candidates'][0]['place_id']\n",
    "            print(place_id)\n",
    "            details_search = 'https://maps.googleapis.com/maps/api/place/details/json?place_id='+place_id+'&fields=opening_hours&key='\n",
    "            details_response = requests.get(details_search)\n",
    "            place_hours = details_response.json()\n",
    "            print(place_hours)\n",
    "            break\n",
    "            "
   ]
  },
  {
   "cell_type": "code",
   "execution_count": null,
   "metadata": {},
   "outputs": [],
   "source": []
  }
 ],
 "metadata": {
  "kernelspec": {
   "display_name": "Python 2",
   "language": "python",
   "name": "python2"
  },
  "language_info": {
   "codemirror_mode": {
    "name": "ipython",
    "version": 2
   },
   "file_extension": ".py",
   "mimetype": "text/x-python",
   "name": "python",
   "nbconvert_exporter": "python",
   "pygments_lexer": "ipython2",
   "version": "2.7.15+"
  }
 },
 "nbformat": 4,
 "nbformat_minor": 2
}
